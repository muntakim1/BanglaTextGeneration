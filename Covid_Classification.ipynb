{
  "nbformat": 4,
  "nbformat_minor": 0,
  "metadata": {
    "colab": {
      "name": "Covid_Classification.ipynb",
      "provenance": [],
      "collapsed_sections": [],
      "authorship_tag": "ABX9TyPtwr1xVmsSSEB89R8Ye/px",
      "include_colab_link": true
    },
    "kernelspec": {
      "name": "python3",
      "display_name": "Python 3"
    },
    "language_info": {
      "name": "python"
    },
    "accelerator": "GPU"
  },
  "cells": [
    {
      "cell_type": "markdown",
      "metadata": {
        "id": "view-in-github",
        "colab_type": "text"
      },
      "source": [
        "<a href=\"https://colab.research.google.com/github/muntakim1/BanglaTextGeneration/blob/master/Covid_Classification.ipynb\" target=\"_parent\"><img src=\"https://colab.research.google.com/assets/colab-badge.svg\" alt=\"Open In Colab\"/></a>"
      ]
    },
    {
      "cell_type": "markdown",
      "source": [
        "# Prerequisits"
      ],
      "metadata": {
        "id": "1XA_i1riZuDG"
      }
    },
    {
      "cell_type": "code",
      "execution_count": null,
      "metadata": {
        "id": "LEAQxZfvXOnV"
      },
      "outputs": [],
      "source": [
        "!pip uninstall tensorflow\n",
        "!pip install tensorflow-gpu==2.4.\n",
        "!pip install livelossplot"
      ]
    },
    {
      "cell_type": "code",
      "source": [
        "mkdir /root/.kaggle/"
      ],
      "metadata": {
        "id": "WdI2XxybZTZd"
      },
      "execution_count": null,
      "outputs": []
    },
    {
      "cell_type": "code",
      "source": [
        "!cp ./kaggle.json /root/.kaggle/"
      ],
      "metadata": {
        "id": "k_eFHMojXlb3"
      },
      "execution_count": null,
      "outputs": []
    },
    {
      "cell_type": "code",
      "source": [
        "!kaggle datasets download -d tawsifurrahman/covid19-radiography-database"
      ],
      "metadata": {
        "colab": {
          "base_uri": "https://localhost:8080/"
        },
        "id": "R2MOtOMgZRSL",
        "outputId": "bcf28a55-2bdf-4b5c-d5cb-0a209659d2b3"
      },
      "execution_count": null,
      "outputs": [
        {
          "output_type": "stream",
          "name": "stdout",
          "text": [
            "Warning: Your Kaggle API key is readable by other users on this system! To fix this, you can run 'chmod 600 /root/.kaggle/kaggle.json'\n",
            "Downloading covid19-radiography-database.zip to /content\n",
            "100% 777M/778M [00:02<00:00, 240MB/s]\n",
            "100% 778M/778M [00:02<00:00, 282MB/s]\n"
          ]
        }
      ]
    },
    {
      "cell_type": "code",
      "source": [
        "!unzip /content/covid19-radiography-database.zip"
      ],
      "metadata": {
        "id": "Bve0bqJiZ7qO"
      },
      "execution_count": null,
      "outputs": []
    },
    {
      "cell_type": "markdown",
      "source": [
        "# Data Processing"
      ],
      "metadata": {
        "id": "J4fcp4zRZ02m"
      }
    },
    {
      "cell_type": "code",
      "source": [
        "!mkdir train\n",
        "!mkdir train/COVID\n",
        "!mkdir train/Normal\n",
        "!cp -r /content/COVID-19_Radiography_Dataset/COVID/images/*.png /content/train/COVID\n",
        "!for FILE in `find /content/COVID-19_Radiography_Dataset/Normal/images/*.png ! -type d  | head -n 3616`; do cp $FILE /content/train/Normal/; done\n"
      ],
      "metadata": {
        "id": "sHPZfD-pZf2e"
      },
      "execution_count": null,
      "outputs": []
    },
    {
      "cell_type": "code",
      "source": [
        "ls /content/train/Normal | wc -l"
      ],
      "metadata": {
        "colab": {
          "base_uri": "https://localhost:8080/"
        },
        "id": "yPg94aUSfZ53",
        "outputId": "f65813d7-67a0-42af-de0b-62bdf9b6e287"
      },
      "execution_count": null,
      "outputs": [
        {
          "output_type": "stream",
          "name": "stdout",
          "text": [
            "3616\n"
          ]
        }
      ]
    },
    {
      "cell_type": "markdown",
      "source": [
        "# Model"
      ],
      "metadata": {
        "id": "ja4CYSDXk7vG"
      }
    },
    {
      "cell_type": "code",
      "source": [
        "IMAGE_SHAPE = (256,256,1)\n",
        "train_data_dir= \"/content/train\""
      ],
      "metadata": {
        "id": "9hfKrX2fdkN9"
      },
      "execution_count": null,
      "outputs": []
    },
    {
      "cell_type": "code",
      "source": [
        "from tensorflow import keras\n",
        "import tensorflow as tf\n",
        "from tensorflow.keras.layers import Activation,Dense,BatchNormalization, Dropout, Flatten, Conv2D, MaxPooling2D,MaxPool2D,AveragePooling2D,GlobalMaxPooling2D\n",
        "from tensorflow.keras.metrics import Recall \n",
        "from tensorflow.keras.models import Sequential\n",
        "from tensorflow.keras.optimizers import Adam\n",
        "# use rotation and rescaling\n",
        "data_augmentation = keras.Sequential([\n",
        "    tf.keras.layers.experimental.preprocessing.RandomRotation(\n",
        "        factor=(-0.2, 0.3),\n",
        "        fill_mode='reflect',\n",
        "        interpolation='bilinear',\n",
        "        seed=None\n",
        "    ),\n",
        "    tf.keras.layers.experimental.preprocessing.Rescaling(\n",
        "        scale=1/.255, \n",
        "        offset=0.0\n",
        "    ),\n",
        "])"
      ],
      "metadata": {
        "id": "IVAHE7aiZ0SV"
      },
      "execution_count": null,
      "outputs": []
    },
    {
      "cell_type": "code",
      "source": [
        "from tensorflow.keras.preprocessing.image import ImageDataGenerator\n",
        "img_height, img_width= 256,256\n",
        "batch_size=16\n",
        "train_datagen = ImageDataGenerator(validation_split=0.3) # set validation split\n",
        "\n",
        "train_generator = train_datagen.flow_from_directory(\n",
        "    train_data_dir,\n",
        "    target_size=(img_height, img_width),\n",
        "    batch_size=batch_size,\n",
        "    class_mode='binary',\n",
        "    color_mode=\"grayscale\",\n",
        "    subset='training') # set as training data\n",
        "# Splitting images for validation set\n",
        "validation_generator = train_datagen.flow_from_directory(\n",
        "    train_data_dir, # same directory as training data\n",
        "    target_size=(img_height, img_width),\n",
        "    batch_size=batch_size,color_mode=\"grayscale\",\n",
        "    class_mode='binary',\n",
        "    subset='validation')"
      ],
      "metadata": {
        "colab": {
          "base_uri": "https://localhost:8080/"
        },
        "id": "PDpGW_SPg1Jc",
        "outputId": "d498dcb4-2e05-409c-d017-d334621578ec"
      },
      "execution_count": null,
      "outputs": [
        {
          "output_type": "stream",
          "name": "stdout",
          "text": [
            "Found 5064 images belonging to 2 classes.\n",
            "Found 2168 images belonging to 2 classes.\n"
          ]
        }
      ]
    },
    {
      "cell_type": "code",
      "source": [
        "model = Sequential()\n",
        "model.add(Conv2D(32, kernel_size=(3, 3),activation='relu',padding = 'Same',input_shape=IMAGE_SHAPE))\n",
        "model.add(BatchNormalization())\n",
        "##############################\n",
        "model.add(Conv2D(64, (3, 3), activation='relu',padding = 'Same'))\n",
        "model.add(BatchNormalization())\n",
        "model.add(AveragePooling2D(pool_size = (2, 2)))\n",
        "model.add(Dropout(0.25))\n",
        "\n",
        "model.add(Conv2D(64, (3, 3), activation='relu',padding = 'Same'))\n",
        "model.add(BatchNormalization())\n",
        "\n",
        "model.add(Conv2D(64, (3, 3), activation='relu',padding = 'Same'))\n",
        "model.add(BatchNormalization())\n",
        "model.add(AveragePooling2D(pool_size=(2, 2)))\n",
        "model.add(Dropout(0.25))\n",
        "##############################\n",
        "model.add(Conv2D(64, (3, 3), activation='relu',padding = 'Same'))\n",
        "model.add(BatchNormalization())\n",
        "model.add(AveragePooling2D(pool_size = (2, 2)))\n",
        "model.add(Dropout(0.25))\n",
        "\n",
        "model.add(Conv2D(64, (3, 3), activation='relu',padding = 'Same'))\n",
        "model.add(BatchNormalization())\n",
        "\n",
        "model.add(Conv2D(64, (3, 3), activation='relu',padding = 'Same'))\n",
        "model.add(BatchNormalization())\n",
        "model.add(AveragePooling2D(pool_size=(2, 2)))\n",
        "model.add(Dropout(0.25))\n",
        "##############################\n",
        "model.add(Flatten())\n",
        "\n",
        "model.add(BatchNormalization())\n",
        "model.add(Dense(64, activation='relu'))\n",
        "model.add(Activation('relu'))\n",
        "model.add(Dropout(0.30))\n",
        "\n",
        "#Output\n",
        "model.add(BatchNormalization())\n",
        "model.add(Dense(1, activation='sigmoid'))\n",
        "#Compile the model\n",
        "opt = Adam(lr=0.002, beta_1=0.9, beta_2=0.999, epsilon=None, decay=0.01, amsgrad=False)\n",
        "model.compile(optimizer=opt, loss='binary_crossentropy', metrics=['acc'])\n",
        "model.summary()"
      ],
      "metadata": {
        "id": "Sh5duAuAgwhV"
      },
      "execution_count": null,
      "outputs": []
    },
    {
      "cell_type": "code",
      "source": [
        "from tensorflow.keras.utils import plot_model\n",
        "plot_model(model, to_file='model.png')"
      ],
      "metadata": {
        "id": "N17iEy_KgyOc"
      },
      "execution_count": null,
      "outputs": []
    },
    {
      "cell_type": "code",
      "source": [
        "from livelossplot import PlotLossesKerasTF\n",
        "import os\n",
        "checkpoint_path = \"training_1/cp.ckpt\"\n",
        "checkpoint_dir = os.path.dirname(checkpoint_path)\n",
        "\n",
        "# Create a callback that saves the model's weights\n",
        "cp_callback = tf.keras.callbacks.ModelCheckpoint(filepath=checkpoint_path,\n",
        "                                                 save_weights_only=True,\n",
        "                                                 verbose=1)\n",
        "es = tf.keras.callbacks.EarlyStopping(monitor = 'val_loss',mode='min',\n",
        "                                      verbose = 2, patience=2)\n",
        "\n",
        "trainer=model.fit(train_generator,validation_data=validation_generator,\n",
        "                  epochs=30,\n",
        "                  callbacks = [cp_callback,es,PlotLossesKerasTF()])"
      ],
      "metadata": {
        "colab": {
          "base_uri": "https://localhost:8080/",
          "height": 707
        },
        "id": "Rc299h7LhGIE",
        "outputId": "54c8ab5c-eb46-419e-ef51-c97d7197bf9c"
      },
      "execution_count": null,
      "outputs": [
        {
          "output_type": "display_data",
          "data": {
            "text/plain": [
              "<Figure size 864x576 with 2 Axes>"
            ],
            "image/png": "[encoded data removed]"
          },
          "metadata": {
            "needs_background": "light"
          }
        },
        {
          "output_type": "stream",
          "name": "stdout",
          "text": [
            "Accuracy\n",
            "\ttraining         \t (min:    0.822, max:    0.948, cur:    0.948)\n",
            "\tvalidation       \t (min:    0.500, max:    0.943, cur:    0.943)\n",
            "Loss\n",
            "\ttraining         \t (min:    0.142, max:    0.402, cur:    0.142)\n",
            "\tvalidation       \t (min:    0.161, max:    8.437, cur:    0.168)\n",
            "Epoch 00005: early stopping\n"
          ]
        }
      ]
    },
    {
      "cell_type": "code",
      "source": [
        "latest = tf.train.latest_checkpoint(checkpoint_dir)\n",
        "model.load_weights(latest)\n",
        "probabilities = model.predict_generator(generator=validation_generator)\n",
        "y_true = validation_generator.classes\n",
        "y_pred = probabilities > 0.5\n",
        "\n",
        "from sklearn.metrics import confusion_matrix\n",
        "cf_matrix = confusion_matrix(y_true, y_pred)\n",
        "print(cf_matrix)\n"
      ],
      "metadata": {
        "colab": {
          "base_uri": "https://localhost:8080/"
        },
        "id": "oKgilFpIhdOm",
        "outputId": "ba9c60c9-8342-4d22-a84f-27ad81ce768c"
      },
      "execution_count": null,
      "outputs": [
        {
          "output_type": "stream",
          "name": "stderr",
          "text": [
            "/usr/local/lib/python3.7/dist-packages/tensorflow/python/keras/engine/training.py:1905: UserWarning: `Model.predict_generator` is deprecated and will be removed in a future version. Please use `Model.predict`, which supports generators.\n",
            "  warnings.warn('`Model.predict_generator` is deprecated and '\n"
          ]
        },
        {
          "output_type": "stream",
          "name": "stdout",
          "text": [
            "[[566 518]\n",
            " [548 536]]\n"
          ]
        }
      ]
    },
    {
      "cell_type": "code",
      "source": [
        "import seaborn as sns\n",
        "import numpy as np\n",
        "\n",
        "sns.heatmap(cf_matrix/np.sum(cf_matrix), annot=True, \n",
        "            fmt='.2%', cmap='Blues')"
      ],
      "metadata": {
        "colab": {
          "base_uri": "https://localhost:8080/",
          "height": 282
        },
        "id": "9c_TCWm4nPe1",
        "outputId": "73857699-95a4-411e-971b-e3e4a9a277cd"
      },
      "execution_count": null,
      "outputs": [
        {
          "output_type": "execute_result",
          "data": {
            "text/plain": [
              "<matplotlib.axes._subplots.AxesSubplot at 0x7fc2c8911610>"
            ]
          },
          "metadata": {},
          "execution_count": 15
        },
        {
          "output_type": "display_data",
          "data": {
            "text/plain": [
              "<Figure size 432x288 with 2 Axes>"
            ],
            "image/png": "[encoded data removed]"
          },
          "metadata": {
            "needs_background": "light"
          }
        }
      ]
    },
    {
      "cell_type": "code",
      "source": [
        "from sklearn.metrics import classification_report\n",
        "print(classification_report(y_true,y_pred))"
      ],
      "metadata": {
        "colab": {
          "base_uri": "https://localhost:8080/"
        },
        "id": "6FdhJwn0r9vm",
        "outputId": "3feb3a5e-f567-4833-da9a-af210c1dbf85"
      },
      "execution_count": null,
      "outputs": [
        {
          "output_type": "stream",
          "name": "stdout",
          "text": [
            "              precision    recall  f1-score   support\n",
            "\n",
            "           0       0.51      0.52      0.52      1084\n",
            "           1       0.51      0.49      0.50      1084\n",
            "\n",
            "    accuracy                           0.51      2168\n",
            "   macro avg       0.51      0.51      0.51      2168\n",
            "weighted avg       0.51      0.51      0.51      2168\n",
            "\n"
          ]
        }
      ]
    },
    {
      "cell_type": "code",
      "source": [
        "from tensorflow.keras.preprocessing import image\n",
        "import numpy as np\n",
        "import matplotlib.pyplot as plt\n",
        "import cv2 as cv\n",
        "\n",
        "def GetResult(img_path):\n",
        "  img = cv.imread(img_path)\n",
        "  plt.imshow(img)\n",
        "  \n",
        "\n",
        "  img = image.load_img(img_path, target_size=(256, 256),color_mode=\"grayscale\")\n",
        "  img_array = image.img_to_array(img)\n",
        "  img_batch = np.expand_dims(img_array, axis=0)\n",
        "  prediction = model.predict(img_batch)\n",
        "  \n",
        "  if prediction>0.5:\n",
        "    print(\"Normal\",prediction[0][0])\n",
        "    plt.title(f\"Normal {prediction[0][0]}\")\n",
        "  else:\n",
        "    print(\"Covid\",1-prediction[0][0])\n",
        "    plt.title(f\"Covid {1-prediction[0][0]}\")\n",
        "  plt.show()\n",
        "img_path = \"/content/COVID-19_Radiography_Dataset/Normal/images/Normal-10100.png\" #@param [\"/content/COVID-19_Radiography_Dataset/Normal/images/Normal-1100.png\", \"/content/COVID-19_Radiography_Dataset/COVID/images/COVID-1000.png\"] {allow-input: true}\n",
        "GetResult(img_path)"
      ],
      "metadata": {
        "id": "fI7wYCsH2Usu",
        "colab": {
          "base_uri": "https://localhost:8080/",
          "height": 298
        },
        "outputId": "91a0dfd9-c1c6-4086-847a-7281f03ee61a"
      },
      "execution_count": null,
      "outputs": [
        {
          "output_type": "stream",
          "name": "stdout",
          "text": [
            "Normal 0.95720786\n"
          ]
        },
        {
          "output_type": "display_data",
          "data": {
            "text/plain": [
              "<Figure size 432x288 with 1 Axes>"
            ],
            "image/png": "[encoded data removed]"
          },
          "metadata": {
            "needs_background": "light"
          }
        }
      ]
    },
    {
      "cell_type": "code",
      "source": [
        ""
      ],
      "metadata": {
        "id": "DDsQwl14BvmD"
      },
      "execution_count": null,
      "outputs": []
    }
  ]
}